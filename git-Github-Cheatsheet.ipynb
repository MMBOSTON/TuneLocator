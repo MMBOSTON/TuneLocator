{
 "cells": [
  {
   "cell_type": "code",
   "execution_count": null,
   "metadata": {},
   "outputs": [],
   "source": []
  },
  {
   "cell_type": "markdown",
   "metadata": {},
   "source": [
    "Sure, here's a detailed explanation of each step in the workflow:\n",
    "\n",
    "1. `git init`\n",
    "\n",
    "   This command initializes a new Git repository in the current directory. It creates a new `.git` directory that stores all the necessary metadata for the new repository. This includes subdirectories for `objects`, `refs/heads`, `refs/tags`, and template files.\n",
    "\n",
    "2. `git status`\n",
    "\n",
    "   This command displays the state of the working directory and the staging area. It shows which changes have been staged, which haven't, and which files aren't being tracked by Git. It's a good practice to run `git status` before running other Git commands to get a summary of your current project status.\n",
    "\n",
    "3. `git add .`\n",
    "\n",
    "   This command adds all the files in the current directory (and its subdirectories) to the staging area. The staging area is a place where Git keeps track of changes that you want to include in your next commit. The `.` represents the current directory.\n",
    "\n",
    "4. `git commit -m \"Initial commit\"`\n",
    "\n",
    "   This command creates a new commit with the changes that are currently in the staging area. The `-m` option allows you to include a commit message directly from the command line. In this case, the commit message is \"Initial commit\".\n",
    "\n",
    "5. `git remote add origin https://github.com/MMBOSTON/TuneLocator.git`\n",
    "\n",
    "   This command adds a new remote repository to your local Git configuration. The remote repository is located at `https://github.com/MMBOSTON/TuneLocator.git`, and you're giving it the short name `origin`. This short name allows you to refer to this remote repository more easily in other Git commands.\n",
    "\n",
    "6. `git push origin master:main`\n",
    "\n",
    "   This command pushes the `master` branch from your local repository to the `main` branch on the remote repository `origin`. If the `main` branch doesn't exist on the remote repository, it will be created. The changes from your local `master` branch will be uploaded to the remote repository, making them available to others and creating a backup of your work on the remote server."
   ]
  },
  {
   "cell_type": "code",
   "execution_count": null,
   "metadata": {},
   "outputs": [],
   "source": []
  },
  {
   "cell_type": "markdown",
   "metadata": {},
   "source": [
    "Sure, here are the steps to create a new feature branch, make enhancements, commit your changes, and push them to the remote repository. I'll also include steps to revert changes if needed.\n",
    "\n",
    "1. Create a new branch for your feature. Replace `feature_branch` with the name of your branch:\n",
    "\n"
   ]
  },
  {
   "cell_type": "code",
   "execution_count": null,
   "metadata": {
    "vscode": {
     "languageId": "bash"
    }
   },
   "outputs": [],
   "source": [
    "git checkout -b feature_branch"
   ]
  },
  {
   "cell_type": "markdown",
   "metadata": {},
   "source": [
    "\n",
    "\n",
    "   This command creates a new branch and switches to it. The new branch is based on your current branch (usually `master` or `main`).\n",
    "\n",
    "2. Make your code enhancements in this branch. You can check which branch you're on at any time with:\n",
    "\n"
   ]
  },
  {
   "cell_type": "code",
   "execution_count": null,
   "metadata": {
    "vscode": {
     "languageId": "bash"
    }
   },
   "outputs": [],
   "source": [
    "git branch"
   ]
  },
  {
   "cell_type": "markdown",
   "metadata": {},
   "source": [
    "\n",
    "\n",
    "   The branch you're currently on will be highlighted and marked with an asterisk.\n",
    "\n",
    "3. Once you've made some changes and you're ready to commit them, first check the status of your repository:\n",
    "\n"
   ]
  },
  {
   "cell_type": "code",
   "execution_count": null,
   "metadata": {
    "vscode": {
     "languageId": "bash"
    }
   },
   "outputs": [],
   "source": [
    "git status"
   ]
  },
  {
   "cell_type": "markdown",
   "metadata": {},
   "source": [
    "\n",
    "\n",
    "   This command shows which changes have been staged, which haven't, and which files aren't being tracked by Git.\n",
    "\n",
    "4. Add the changes you want to commit to the staging area. To add all changes, use:\n",
    "\n"
   ]
  },
  {
   "cell_type": "code",
   "execution_count": null,
   "metadata": {
    "vscode": {
     "languageId": "bash"
    }
   },
   "outputs": [],
   "source": [
    "git add ."
   ]
  },
  {
   "cell_type": "markdown",
   "metadata": {},
   "source": [
    "\n",
    "\n",
    "   To add specific files, use `git add <file1> <file2> ...`.\n",
    "\n",
    "5. Commit your changes:\n",
    "\n"
   ]
  },
  {
   "cell_type": "code",
   "execution_count": null,
   "metadata": {
    "vscode": {
     "languageId": "bash"
    }
   },
   "outputs": [],
   "source": [
    "git commit -m \"Your descriptive commit message here\""
   ]
  },
  {
   "cell_type": "markdown",
   "metadata": {},
   "source": [
    "\n",
    "\n",
    "   This command creates a new commit with your changes. Replace the placeholder text with a descriptive message for what changes the commit includes.\n",
    "\n",
    "6. Repeat steps 3-5 as necessary while you're working on your feature. Regular commits are a good practice as they create save points you can revert back to if needed.\n",
    "\n",
    "7. Once you're done with your feature, push your feature branch to the remote repository:\n",
    "\n"
   ]
  },
  {
   "cell_type": "code",
   "execution_count": null,
   "metadata": {
    "vscode": {
     "languageId": "bash"
    }
   },
   "outputs": [],
   "source": [
    "git push origin feature_branch"
   ]
  },
  {
   "cell_type": "markdown",
   "metadata": {},
   "source": [
    "\n",
    "\n",
    "   This command pushes your `feature_branch` to the remote repository `origin`.\n",
    "\n",
    "If you make a mistake and want to revert your local repository back to the state of a previous commit, you can use the `git reset` command. You'll need the hash of the commit you want to revert to, which you can find with `git log`.\n",
    "\n",
    "To revert all changes and go back to the state of a previous commit, use:\n",
    "\n"
   ]
  },
  {
   "cell_type": "code",
   "execution_count": null,
   "metadata": {
    "vscode": {
     "languageId": "bash"
    }
   },
   "outputs": [],
   "source": [
    "git reset --hard <commit_hash>"
   ]
  },
  {
   "cell_type": "markdown",
   "metadata": {},
   "source": [
    "\n",
    "\n",
    "This command discards all changes since the specified commit and moves your current branch pointer to the specified commit. Be careful with this command, as it discards changes permanently.\n",
    "\n",
    "If you want to keep your changes but unstage them, use:\n",
    "\n"
   ]
  },
  {
   "cell_type": "code",
   "execution_count": null,
   "metadata": {
    "vscode": {
     "languageId": "bash"
    }
   },
   "outputs": [],
   "source": [
    "git reset <commit_hash>"
   ]
  },
  {
   "cell_type": "markdown",
   "metadata": {},
   "source": [
    "\n",
    "\n",
    "This command moves your current branch pointer to the specified commit, but leaves your files as they are. You can then re-stage and re-commit your changes as you see fit."
   ]
  }
 ],
 "metadata": {
  "language_info": {
   "name": "python"
  }
 },
 "nbformat": 4,
 "nbformat_minor": 2
}
